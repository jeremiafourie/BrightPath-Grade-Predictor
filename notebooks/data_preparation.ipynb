{
 "cells": [
  {
   "cell_type": "markdown",
   "id": "10b08a27",
   "metadata": {},
   "source": [
    "# Data Preparation"
   ]
  },
  {
   "cell_type": "markdown",
   "id": "eed0b305",
   "metadata": {},
   "source": [
    "## Getting the System Ready and Loading the Data"
   ]
  },
  {
   "cell_type": "code",
   "execution_count": 36,
   "id": "e0166a6c",
   "metadata": {},
   "outputs": [
    {
     "name": "stdout",
     "output_type": "stream",
     "text": [
      "First few rows after removing StudentID:\n",
      "   StudentID  Age  Gender  Ethnicity  ParentalEducation  StudyTimeWeekly  \\\n",
      "0       1001   17       1          0                  2        19.833723   \n",
      "1       1002   18       0          0                  1        15.408756   \n",
      "2       1003   15       0          2                  3         4.210570   \n",
      "3       1004   17       1          0                  3        10.028829   \n",
      "4       1005   17       1          0                  2         4.672495   \n",
      "\n",
      "   Absences  Tutoring  ParentalSupport  Extracurricular  Sports  Music  \\\n",
      "0         7         1                2                0       0      1   \n",
      "1         0         0                1                0       0      0   \n",
      "2        26         0                2                0       0      0   \n",
      "3        14         0                3                1       0      0   \n",
      "4        17         1                3                0       0      0   \n",
      "\n",
      "   Volunteering       GPA  GradeClass  \n",
      "0             0  2.929196         2.0  \n",
      "1             0  3.042915         1.0  \n",
      "2             0  0.112602         4.0  \n",
      "3             0  2.054218         3.0  \n",
      "4             0  1.288061         4.0  \n"
     ]
    }
   ],
   "source": [
    "import pandas as pd\n",
    "import numpy as np\n",
    "\n",
    "# Load the raw dataset\n",
    "data = pd.read_csv(\"../data/raw/student_performance_data.csv\")\n",
    "\n",
    "# Display the first few rows and dataset info to verify the change\n",
    "print(\"First few rows after removing StudentID:\")\n",
    "print(data.head())"
   ]
  },
  {
   "cell_type": "markdown",
   "id": "1f3b6158",
   "metadata": {},
   "source": [
    "## Understanding the Data"
   ]
  },
  {
   "cell_type": "code",
   "execution_count": 37,
   "id": "7356e6ee",
   "metadata": {},
   "outputs": [
    {
     "name": "stdout",
     "output_type": "stream",
     "text": [
      "\n",
      "Dataset info:\n",
      "<class 'pandas.core.frame.DataFrame'>\n",
      "RangeIndex: 2392 entries, 0 to 2391\n",
      "Data columns (total 15 columns):\n",
      " #   Column             Non-Null Count  Dtype  \n",
      "---  ------             --------------  -----  \n",
      " 0   StudentID          2392 non-null   int64  \n",
      " 1   Age                2392 non-null   int64  \n",
      " 2   Gender             2392 non-null   int64  \n",
      " 3   Ethnicity          2392 non-null   int64  \n",
      " 4   ParentalEducation  2392 non-null   int64  \n",
      " 5   StudyTimeWeekly    2392 non-null   float64\n",
      " 6   Absences           2392 non-null   int64  \n",
      " 7   Tutoring           2392 non-null   int64  \n",
      " 8   ParentalSupport    2392 non-null   int64  \n",
      " 9   Extracurricular    2392 non-null   int64  \n",
      " 10  Sports             2392 non-null   int64  \n",
      " 11  Music              2392 non-null   int64  \n",
      " 12  Volunteering       2392 non-null   int64  \n",
      " 13  GPA                2392 non-null   float64\n",
      " 14  GradeClass         2392 non-null   float64\n",
      "dtypes: float64(3), int64(12)\n",
      "memory usage: 280.4 KB\n"
     ]
    }
   ],
   "source": [
    "print(\"\\nDataset info:\")\n",
    "data.info()"
   ]
  },
  {
   "cell_type": "code",
   "execution_count": 38,
   "id": "f5b03cbb",
   "metadata": {},
   "outputs": [
    {
     "name": "stdout",
     "output_type": "stream",
     "text": [
      "\n",
      "Dataset Description:\n"
     ]
    },
    {
     "data": {
      "text/html": [
       "<div>\n",
       "<style scoped>\n",
       "    .dataframe tbody tr th:only-of-type {\n",
       "        vertical-align: middle;\n",
       "    }\n",
       "\n",
       "    .dataframe tbody tr th {\n",
       "        vertical-align: top;\n",
       "    }\n",
       "\n",
       "    .dataframe thead th {\n",
       "        text-align: right;\n",
       "    }\n",
       "</style>\n",
       "<table border=\"1\" class=\"dataframe\">\n",
       "  <thead>\n",
       "    <tr style=\"text-align: right;\">\n",
       "      <th></th>\n",
       "      <th>count</th>\n",
       "      <th>mean</th>\n",
       "      <th>std</th>\n",
       "      <th>min</th>\n",
       "      <th>25%</th>\n",
       "      <th>50%</th>\n",
       "      <th>75%</th>\n",
       "      <th>max</th>\n",
       "    </tr>\n",
       "  </thead>\n",
       "  <tbody>\n",
       "    <tr>\n",
       "      <th>StudentID</th>\n",
       "      <td>2392.0</td>\n",
       "      <td>2196.500000</td>\n",
       "      <td>690.655244</td>\n",
       "      <td>1001.000000</td>\n",
       "      <td>1598.750000</td>\n",
       "      <td>2196.500000</td>\n",
       "      <td>2794.250000</td>\n",
       "      <td>3392.000000</td>\n",
       "    </tr>\n",
       "    <tr>\n",
       "      <th>Age</th>\n",
       "      <td>2392.0</td>\n",
       "      <td>16.468645</td>\n",
       "      <td>1.123798</td>\n",
       "      <td>15.000000</td>\n",
       "      <td>15.000000</td>\n",
       "      <td>16.000000</td>\n",
       "      <td>17.000000</td>\n",
       "      <td>18.000000</td>\n",
       "    </tr>\n",
       "    <tr>\n",
       "      <th>Gender</th>\n",
       "      <td>2392.0</td>\n",
       "      <td>0.510870</td>\n",
       "      <td>0.499986</td>\n",
       "      <td>0.000000</td>\n",
       "      <td>0.000000</td>\n",
       "      <td>1.000000</td>\n",
       "      <td>1.000000</td>\n",
       "      <td>1.000000</td>\n",
       "    </tr>\n",
       "    <tr>\n",
       "      <th>Ethnicity</th>\n",
       "      <td>2392.0</td>\n",
       "      <td>0.877508</td>\n",
       "      <td>1.028476</td>\n",
       "      <td>0.000000</td>\n",
       "      <td>0.000000</td>\n",
       "      <td>0.000000</td>\n",
       "      <td>2.000000</td>\n",
       "      <td>3.000000</td>\n",
       "    </tr>\n",
       "    <tr>\n",
       "      <th>ParentalEducation</th>\n",
       "      <td>2392.0</td>\n",
       "      <td>1.746237</td>\n",
       "      <td>1.000411</td>\n",
       "      <td>0.000000</td>\n",
       "      <td>1.000000</td>\n",
       "      <td>2.000000</td>\n",
       "      <td>2.000000</td>\n",
       "      <td>4.000000</td>\n",
       "    </tr>\n",
       "    <tr>\n",
       "      <th>StudyTimeWeekly</th>\n",
       "      <td>2392.0</td>\n",
       "      <td>9.771992</td>\n",
       "      <td>5.652774</td>\n",
       "      <td>0.001057</td>\n",
       "      <td>5.043079</td>\n",
       "      <td>9.705363</td>\n",
       "      <td>14.408410</td>\n",
       "      <td>19.978094</td>\n",
       "    </tr>\n",
       "    <tr>\n",
       "      <th>Absences</th>\n",
       "      <td>2392.0</td>\n",
       "      <td>14.541388</td>\n",
       "      <td>8.467417</td>\n",
       "      <td>0.000000</td>\n",
       "      <td>7.000000</td>\n",
       "      <td>15.000000</td>\n",
       "      <td>22.000000</td>\n",
       "      <td>29.000000</td>\n",
       "    </tr>\n",
       "    <tr>\n",
       "      <th>Tutoring</th>\n",
       "      <td>2392.0</td>\n",
       "      <td>0.301421</td>\n",
       "      <td>0.458971</td>\n",
       "      <td>0.000000</td>\n",
       "      <td>0.000000</td>\n",
       "      <td>0.000000</td>\n",
       "      <td>1.000000</td>\n",
       "      <td>1.000000</td>\n",
       "    </tr>\n",
       "    <tr>\n",
       "      <th>ParentalSupport</th>\n",
       "      <td>2392.0</td>\n",
       "      <td>2.122074</td>\n",
       "      <td>1.122813</td>\n",
       "      <td>0.000000</td>\n",
       "      <td>1.000000</td>\n",
       "      <td>2.000000</td>\n",
       "      <td>3.000000</td>\n",
       "      <td>4.000000</td>\n",
       "    </tr>\n",
       "    <tr>\n",
       "      <th>Extracurricular</th>\n",
       "      <td>2392.0</td>\n",
       "      <td>0.383361</td>\n",
       "      <td>0.486307</td>\n",
       "      <td>0.000000</td>\n",
       "      <td>0.000000</td>\n",
       "      <td>0.000000</td>\n",
       "      <td>1.000000</td>\n",
       "      <td>1.000000</td>\n",
       "    </tr>\n",
       "    <tr>\n",
       "      <th>Sports</th>\n",
       "      <td>2392.0</td>\n",
       "      <td>0.303512</td>\n",
       "      <td>0.459870</td>\n",
       "      <td>0.000000</td>\n",
       "      <td>0.000000</td>\n",
       "      <td>0.000000</td>\n",
       "      <td>1.000000</td>\n",
       "      <td>1.000000</td>\n",
       "    </tr>\n",
       "    <tr>\n",
       "      <th>Music</th>\n",
       "      <td>2392.0</td>\n",
       "      <td>0.196906</td>\n",
       "      <td>0.397744</td>\n",
       "      <td>0.000000</td>\n",
       "      <td>0.000000</td>\n",
       "      <td>0.000000</td>\n",
       "      <td>0.000000</td>\n",
       "      <td>1.000000</td>\n",
       "    </tr>\n",
       "    <tr>\n",
       "      <th>Volunteering</th>\n",
       "      <td>2392.0</td>\n",
       "      <td>0.157191</td>\n",
       "      <td>0.364057</td>\n",
       "      <td>0.000000</td>\n",
       "      <td>0.000000</td>\n",
       "      <td>0.000000</td>\n",
       "      <td>0.000000</td>\n",
       "      <td>1.000000</td>\n",
       "    </tr>\n",
       "    <tr>\n",
       "      <th>GPA</th>\n",
       "      <td>2392.0</td>\n",
       "      <td>1.906186</td>\n",
       "      <td>0.915156</td>\n",
       "      <td>0.000000</td>\n",
       "      <td>1.174803</td>\n",
       "      <td>1.893393</td>\n",
       "      <td>2.622216</td>\n",
       "      <td>4.000000</td>\n",
       "    </tr>\n",
       "    <tr>\n",
       "      <th>GradeClass</th>\n",
       "      <td>2392.0</td>\n",
       "      <td>2.983696</td>\n",
       "      <td>1.233908</td>\n",
       "      <td>0.000000</td>\n",
       "      <td>2.000000</td>\n",
       "      <td>4.000000</td>\n",
       "      <td>4.000000</td>\n",
       "      <td>4.000000</td>\n",
       "    </tr>\n",
       "  </tbody>\n",
       "</table>\n",
       "</div>"
      ],
      "text/plain": [
       "                    count         mean         std          min          25%  \\\n",
       "StudentID          2392.0  2196.500000  690.655244  1001.000000  1598.750000   \n",
       "Age                2392.0    16.468645    1.123798    15.000000    15.000000   \n",
       "Gender             2392.0     0.510870    0.499986     0.000000     0.000000   \n",
       "Ethnicity          2392.0     0.877508    1.028476     0.000000     0.000000   \n",
       "ParentalEducation  2392.0     1.746237    1.000411     0.000000     1.000000   \n",
       "StudyTimeWeekly    2392.0     9.771992    5.652774     0.001057     5.043079   \n",
       "Absences           2392.0    14.541388    8.467417     0.000000     7.000000   \n",
       "Tutoring           2392.0     0.301421    0.458971     0.000000     0.000000   \n",
       "ParentalSupport    2392.0     2.122074    1.122813     0.000000     1.000000   \n",
       "Extracurricular    2392.0     0.383361    0.486307     0.000000     0.000000   \n",
       "Sports             2392.0     0.303512    0.459870     0.000000     0.000000   \n",
       "Music              2392.0     0.196906    0.397744     0.000000     0.000000   \n",
       "Volunteering       2392.0     0.157191    0.364057     0.000000     0.000000   \n",
       "GPA                2392.0     1.906186    0.915156     0.000000     1.174803   \n",
       "GradeClass         2392.0     2.983696    1.233908     0.000000     2.000000   \n",
       "\n",
       "                           50%          75%          max  \n",
       "StudentID          2196.500000  2794.250000  3392.000000  \n",
       "Age                  16.000000    17.000000    18.000000  \n",
       "Gender                1.000000     1.000000     1.000000  \n",
       "Ethnicity             0.000000     2.000000     3.000000  \n",
       "ParentalEducation     2.000000     2.000000     4.000000  \n",
       "StudyTimeWeekly       9.705363    14.408410    19.978094  \n",
       "Absences             15.000000    22.000000    29.000000  \n",
       "Tutoring              0.000000     1.000000     1.000000  \n",
       "ParentalSupport       2.000000     3.000000     4.000000  \n",
       "Extracurricular       0.000000     1.000000     1.000000  \n",
       "Sports                0.000000     1.000000     1.000000  \n",
       "Music                 0.000000     0.000000     1.000000  \n",
       "Volunteering          0.000000     0.000000     1.000000  \n",
       "GPA                   1.893393     2.622216     4.000000  \n",
       "GradeClass            4.000000     4.000000     4.000000  "
      ]
     },
     "execution_count": 38,
     "metadata": {},
     "output_type": "execute_result"
    }
   ],
   "source": [
    "print(\"\\nDataset Description:\")\n",
    "data.describe().T"
   ]
  },
  {
   "cell_type": "markdown",
   "id": "a16be98f",
   "metadata": {},
   "source": [
    "Missing‐value summary"
   ]
  },
  {
   "cell_type": "code",
   "execution_count": 39,
   "id": "e87b5b2a",
   "metadata": {},
   "outputs": [
    {
     "name": "stdout",
     "output_type": "stream",
     "text": [
      "Missing Values per Column:\n",
      "                   0  pct\n",
      "StudentID          0  0.0\n",
      "Age                0  0.0\n",
      "Gender             0  0.0\n",
      "Ethnicity          0  0.0\n",
      "ParentalEducation  0  0.0\n",
      "StudyTimeWeekly    0  0.0\n",
      "Absences           0  0.0\n",
      "Tutoring           0  0.0\n",
      "ParentalSupport    0  0.0\n",
      "Extracurricular    0  0.0\n",
      "Sports             0  0.0\n",
      "Music              0  0.0\n",
      "Volunteering       0  0.0\n",
      "GPA                0  0.0\n",
      "GradeClass         0  0.0\n"
     ]
    }
   ],
   "source": [
    "missing = data.isnull().sum()\n",
    "pct_missing = (missing / len(data) * 100).round(2)\n",
    "print(\"Missing Values per Column:\")\n",
    "print(pd.concat([missing, pct_missing.rename('pct')], axis=1))"
   ]
  },
  {
   "cell_type": "markdown",
   "id": "1614f8d7",
   "metadata": {},
   "source": [
    "Duplicate rows check"
   ]
  },
  {
   "cell_type": "code",
   "execution_count": 40,
   "id": "8dcc8cd3",
   "metadata": {},
   "outputs": [
    {
     "name": "stdout",
     "output_type": "stream",
     "text": [
      "\n",
      "Duplicate rows found: 0\n"
     ]
    }
   ],
   "source": [
    "n_dups = data.duplicated().sum()\n",
    "print(f\"\\nDuplicate rows found: {n_dups}\")"
   ]
  },
  {
   "cell_type": "markdown",
   "id": "4feb886a",
   "metadata": {},
   "source": [
    "Unique‐value counts for categoricals"
   ]
  },
  {
   "cell_type": "code",
   "execution_count": 41,
   "id": "ca04e0e9",
   "metadata": {},
   "outputs": [
    {
     "name": "stdout",
     "output_type": "stream",
     "text": [
      "Gender: 2 unique → {1: 1222, 0: 1170}\n",
      "Ethnicity: 4 unique → {0: 1207, 1: 493, 2: 470, 3: 222}\n",
      "ParentalEducation: 5 unique → {2: 934, 1: 728, 3: 367, 0: 243, 4: 120}\n",
      "Tutoring: 2 unique → {0: 1671, 1: 721}\n",
      "ParentalSupport: 5 unique → {2: 740, 3: 697, 1: 489, 4: 254, 0: 212}\n",
      "Extracurricular: 2 unique → {0: 1475, 1: 917}\n",
      "Sports: 2 unique → {0: 1666, 1: 726}\n",
      "Music: 2 unique → {0: 1921, 1: 471}\n",
      "Volunteering: 2 unique → {0: 2016, 1: 376}\n",
      "GradeClass: 5 unique → {4.0: 1211, 3.0: 414, 2.0: 391, 1.0: 269, 0.0: 107}\n"
     ]
    }
   ],
   "source": [
    "cat_cols = ['Gender','Ethnicity','ParentalEducation',\n",
    "            'Tutoring','ParentalSupport','Extracurricular',\n",
    "            'Sports','Music','Volunteering','GradeClass']\n",
    "for col in cat_cols:\n",
    "    print(f\"{col}: {data[col].nunique()} unique → {data[col].value_counts().to_dict()}\")"
   ]
  },
  {
   "cell_type": "markdown",
   "id": "51391eb0",
   "metadata": {},
   "source": [
    "Outlier detection via IQR"
   ]
  },
  {
   "cell_type": "code",
   "execution_count": 42,
   "id": "34b936fc",
   "metadata": {},
   "outputs": [
    {
     "name": "stdout",
     "output_type": "stream",
     "text": [
      "\n",
      "Outlier Summary:\n",
      "              feature  n_outliers  lower_bound  upper_bound\n",
      "0           StudentID           0  -194.500000  4587.500000\n",
      "1                 Age           0    12.000000    20.000000\n",
      "2              Gender           0    -1.500000     2.500000\n",
      "3           Ethnicity           0    -3.000000     5.000000\n",
      "4   ParentalEducation         120    -0.500000     3.500000\n",
      "5     StudyTimeWeekly           0    -9.004916    28.456405\n",
      "6            Absences           0   -15.500000    44.500000\n",
      "7            Tutoring           0    -1.500000     2.500000\n",
      "8     ParentalSupport           0    -2.000000     6.000000\n",
      "9     Extracurricular           0    -1.500000     2.500000\n",
      "10             Sports           0    -1.500000     2.500000\n",
      "11              Music         471     0.000000     0.000000\n",
      "12       Volunteering         376     0.000000     0.000000\n",
      "13                GPA           0    -0.996316     4.793335\n",
      "14         GradeClass           0    -1.000000     7.000000\n"
     ]
    }
   ],
   "source": [
    "numeric_cols = data.select_dtypes(include=[np.number]).columns\n",
    "outlier_summary = []\n",
    "for col in numeric_cols:\n",
    "    Q1 = data[col].quantile(0.25)\n",
    "    Q3 = data[col].quantile(0.75)\n",
    "    IQR = Q3 - Q1\n",
    "    lower, upper = Q1 - 1.5 * IQR, Q3 + 1.5 * IQR\n",
    "    mask = (data[col] < lower) | (data[col] > upper)\n",
    "    outlier_count = mask.sum()\n",
    "    outlier_summary.append((col, outlier_count, lower, upper))\n",
    "outlier_df = pd.DataFrame(outlier_summary,\n",
    "                          columns=['feature','n_outliers','lower_bound','upper_bound'])\n",
    "print(\"\\nOutlier Summary:\")\n",
    "print(outlier_df)"
   ]
  },
  {
   "cell_type": "markdown",
   "id": "050db7fa",
   "metadata": {},
   "source": [
    "Skewness & kurtosis for numeric features"
   ]
  },
  {
   "cell_type": "code",
   "execution_count": 43,
   "id": "e67dbed4",
   "metadata": {},
   "outputs": [
    {
     "name": "stdout",
     "output_type": "stream",
     "text": [
      "\n",
      "Skewness & Kurtosis:\n",
      "                   skewness  kurtosis\n",
      "StudentID              0.00     -1.20\n",
      "Age                    0.04     -1.37\n",
      "Gender                -0.04     -2.00\n",
      "Ethnicity              0.76     -0.77\n",
      "ParentalEducation      0.22     -0.29\n",
      "StudyTimeWeekly        0.05     -1.14\n",
      "Absences              -0.03     -1.18\n",
      "Tutoring               0.87     -1.25\n",
      "ParentalSupport       -0.17     -0.72\n",
      "Extracurricular        0.48     -1.77\n",
      "Sports                 0.86     -1.27\n",
      "Music                  1.53      0.33\n",
      "Volunteering           1.88      1.55\n",
      "GPA                    0.01     -0.86\n",
      "GradeClass            -0.90     -0.42\n"
     ]
    }
   ],
   "source": [
    "skew_kurt = pd.DataFrame({\n",
    "    'skewness': data[numeric_cols].skew(),\n",
    "    'kurtosis': data[numeric_cols].kurtosis()\n",
    "}).round(2)\n",
    "print(\"\\nSkewness & Kurtosis:\")\n",
    "print(skew_kurt)"
   ]
  },
  {
   "cell_type": "markdown",
   "id": "14cb08de",
   "metadata": {},
   "source": [
    "## Missing Value and Outlier Treatment"
   ]
  },
  {
   "cell_type": "markdown",
   "id": "8f412046",
   "metadata": {},
   "source": [
    "Remove the StudentID column, as it is a non-predictive unique identifier"
   ]
  },
  {
   "cell_type": "code",
   "execution_count": 44,
   "id": "0be70a62",
   "metadata": {},
   "outputs": [
    {
     "name": "stdout",
     "output_type": "stream",
     "text": [
      "Student ID dropped successfully\n"
     ]
    }
   ],
   "source": [
    "# Remove the StudentID column\n",
    "data = data.drop(columns=['StudentID'])\n",
    "print(\"Student ID dropped successfully\")"
   ]
  },
  {
   "cell_type": "markdown",
   "id": "4cd25e35",
   "metadata": {},
   "source": [
    "# Save Dataset"
   ]
  },
  {
   "cell_type": "code",
   "execution_count": 45,
   "id": "496c1b66",
   "metadata": {},
   "outputs": [
    {
     "name": "stdout",
     "output_type": "stream",
     "text": [
      "Dataset Saved Successfully\n"
     ]
    }
   ],
   "source": [
    "# Save the cleaned dataset for future use\n",
    "data.to_csv(\"../data/processed/cleaned_data.csv\", index=False)\n",
    "print(\"Dataset Saved Successfully\")"
   ]
  }
 ],
 "metadata": {
  "kernelspec": {
   "display_name": ".venv",
   "language": "python",
   "name": "python3"
  },
  "language_info": {
   "codemirror_mode": {
    "name": "ipython",
    "version": 3
   },
   "file_extension": ".py",
   "mimetype": "text/x-python",
   "name": "python",
   "nbconvert_exporter": "python",
   "pygments_lexer": "ipython3",
   "version": "3.12.4"
  }
 },
 "nbformat": 4,
 "nbformat_minor": 5
}
