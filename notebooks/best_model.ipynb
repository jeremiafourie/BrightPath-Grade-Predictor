{
 "cells": [
  {
   "cell_type": "code",
   "execution_count": 1,
   "id": "b0cb21f7",
   "metadata": {},
   "outputs": [
    {
     "name": "stdout",
     "output_type": "stream",
     "text": [
      "Accuracy: 0.8225469728601252\n",
      "Classification Report:\n",
      "               precision    recall  f1-score   support\n",
      "\n",
      "           0       0.86      0.40      0.55        15\n",
      "           1       0.67      0.69      0.68        49\n",
      "           2       0.65      0.69      0.67        77\n",
      "           3       0.67      0.71      0.69        83\n",
      "           4       0.96      0.95      0.95       255\n",
      "\n",
      "    accuracy                           0.82       479\n",
      "   macro avg       0.76      0.69      0.71       479\n",
      "weighted avg       0.83      0.82      0.82       479\n",
      "\n",
      "Confusion Matrix:\n",
      " [[  6   9   0   0   0]\n",
      " [  1  34  14   0   0]\n",
      " [  0   8  53  16   0]\n",
      " [  0   0  14  59  10]\n",
      " [  0   0   0  13 242]]\n",
      "Top Feature Coefficients across classes:\n",
      "     Class          Feature  Coefficient\n",
      "29      4         Absences     9.163548\n",
      "25      0         Absences    -7.319748\n",
      "26      1         Absences    -4.862214\n",
      "28      3         Absences     3.717651\n",
      "39      4  ParentalSupport    -1.854927\n",
      "24      4  StudyTimeWeekly    -1.837826\n",
      "35      0  ParentalSupport     1.721933\n",
      "20      0  StudyTimeWeekly     1.523276\n",
      "34      4         Tutoring    -1.250506\n",
      "30      0         Tutoring     1.181689\n",
      "44      4  Extracurricular    -1.021975\n",
      "40      0  Extracurricular     0.961532\n"
     ]
    }
   ],
   "source": [
    "import pandas as pd\n",
    "from sklearn.model_selection import train_test_split\n",
    "from sklearn.preprocessing import StandardScaler\n",
    "from sklearn.linear_model import LogisticRegression\n",
    "from sklearn.metrics import accuracy_score, classification_report, confusion_matrix\n",
    "import numpy as np\n",
    "\n",
    "# Load the dataset\n",
    "df = pd.read_csv('../data/processed/engineered_data.csv')\n",
    "\n",
    "# Keep GradeClass as the target for multi-class classification\n",
    "y = df['GradeClass']\n",
    "X = df.drop(columns=['GradeClass'])\n",
    "\n",
    "# Train/test split (stratify by GradeClass to preserve class distribution)\n",
    "X_train, X_test, y_train, y_test = train_test_split(\n",
    "    X, y, test_size=0.2, random_state=42, stratify=y)\n",
    "\n",
    "# Scale the features\n",
    "scaler = StandardScaler()\n",
    "X_train_scaled = scaler.fit_transform(X_train)\n",
    "X_test_scaled = scaler.transform(X_test)\n",
    "\n",
    "# Train logistic regression for multi-class classification\n",
    "log_reg = LogisticRegression(solver='lbfgs', max_iter=1000, random_state=42)\n",
    "log_reg.fit(X_train_scaled, y_train)\n",
    "\n",
    "# Predict\n",
    "y_pred = log_reg.predict(X_test_scaled)\n",
    "\n",
    "# Evaluation\n",
    "print(\"Accuracy:\", accuracy_score(y_test, y_pred))\n",
    "print(\"Classification Report:\\n\", classification_report(y_test, y_pred))\n",
    "print(\"Confusion Matrix:\\n\", confusion_matrix(y_test, y_pred))\n",
    "\n",
    "# Feature Importance (Coefficients for each class)\n",
    "coeffs = pd.DataFrame(log_reg.coef_, columns=X.columns)\n",
    "coeffs['Class'] = log_reg.classes_\n",
    "\n",
    "# Melt the DataFrame to make it easier to read\n",
    "coeff_melted = coeffs.melt(id_vars='Class', var_name='Feature', value_name='Coefficient')\n",
    "coeff_sorted = coeff_melted.sort_values(by='Coefficient', key=np.abs, ascending=False)\n",
    "\n",
    "print(\"Top Feature Coefficients across classes:\\n\", coeff_sorted.head(12))\n"
   ]
  }
 ],
 "metadata": {
  "kernelspec": {
   "display_name": "base",
   "language": "python",
   "name": "python3"
  },
  "language_info": {
   "codemirror_mode": {
    "name": "ipython",
    "version": 3
   },
   "file_extension": ".py",
   "mimetype": "text/x-python",
   "name": "python",
   "nbconvert_exporter": "python",
   "pygments_lexer": "ipython3",
   "version": "3.12.7"
  }
 },
 "nbformat": 4,
 "nbformat_minor": 5
}
