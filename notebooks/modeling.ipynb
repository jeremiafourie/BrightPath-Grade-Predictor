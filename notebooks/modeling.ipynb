{
 "cells": [
  {
   "cell_type": "markdown",
   "id": "4e166e88",
   "metadata": {},
   "source": [
    "# Modeling\n",
    "#### ✂️ Train-Test Split (80/20)"
   ]
  },
  {
   "cell_type": "code",
   "execution_count": 1,
   "id": "8ca8f63e",
   "metadata": {},
   "outputs": [
    {
     "name": "stdout",
     "output_type": "stream",
     "text": [
      "✅ X_train shape: (1913, 13)\n",
      "✅ X_test shape: (479, 13)\n",
      "✅ y_train shape: (1913,)\n",
      "✅ y_test shape: (479,)\n"
     ]
    }
   ],
   "source": [
    "import pandas as pd\n",
    "from sklearn.model_selection import train_test_split\n",
    "\n",
    "# Load the engineered data\n",
    "df = pd.read_csv(\"../data/processed/engineered_data.csv\")\n",
    "\n",
    "# Separate features and target\n",
    "X = df.drop(columns=[\"GradeClass\"])\n",
    "y = df[\"GradeClass\"]\n",
    "\n",
    "# Perform 80/20 train-test split\n",
    "X_train, X_test, y_train, y_test = train_test_split(\n",
    "    X, y, test_size=0.2, random_state=42, stratify=y  # stratify keeps class distribution\n",
    ")\n",
    "\n",
    "# Confirm the split shapes\n",
    "print(f\"✅ X_train shape: {X_train.shape}\")\n",
    "print(f\"✅ X_test shape: {X_test.shape}\")\n",
    "print(f\"✅ y_train shape: {y_train.shape}\")\n",
    "print(f\"✅ y_test shape: {y_test.shape}\")\n"
   ]
  },
  {
   "cell_type": "markdown",
   "id": "259e258a",
   "metadata": {},
   "source": [
    "## Evaluation Metrics (Step 7)"
   ]
  },
  {
   "cell_type": "markdown",
   "id": "a20f6549",
   "metadata": {},
   "source": [
    "## Model Building: Part 1 (Baseline ML Models) (Step 9)"
   ]
  },
  {
   "cell_type": "markdown",
   "id": "f5f946c6",
   "metadata": {},
   "source": [
    "### 1) Logistic Regression"
   ]
  },
  {
   "cell_type": "markdown",
   "id": "edbc4376",
   "metadata": {},
   "source": [
    "### 2) Random Forest"
   ]
  },
  {
   "cell_type": "markdown",
   "id": "4b091c00",
   "metadata": {},
   "source": [
    "### 3) XGBoost"
   ]
  },
  {
   "cell_type": "markdown",
   "id": "e5ec14dd",
   "metadata": {},
   "source": [
    "## Model Building: Part 2 (Deep Learning Model) (Step 10)"
   ]
  }
 ],
 "metadata": {
  "kernelspec": {
   "display_name": "fucking_testing",
   "language": "python",
   "name": "python3"
  },
  "language_info": {
   "codemirror_mode": {
    "name": "ipython",
    "version": 3
   },
   "file_extension": ".py",
   "mimetype": "text/x-python",
   "name": "python",
   "nbconvert_exporter": "python",
   "pygments_lexer": "ipython3",
   "version": "3.12.9"
  }
 },
 "nbformat": 4,
 "nbformat_minor": 5
}
