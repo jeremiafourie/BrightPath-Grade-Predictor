{
 "cells": [
  {
   "cell_type": "markdown",
   "id": "697c3d63",
   "metadata": {},
   "source": [
    "# Feature Engineering (Step 8)"
   ]
  },
  {
   "cell_type": "code",
   "execution_count": 1,
   "id": "85cefbfa",
   "metadata": {},
   "outputs": [],
   "source": [
    "import sys\n",
    "import os\n",
    "\n",
    "# Dynamically add the src/ folder to the system path\n",
    "sys.path.append(os.path.abspath(os.path.join(\"..\", \"src\")))\n",
    "\n",
    "import pandas as pd\n",
    "\n",
    "# Load the cleaned dataset\n",
    "df = pd.read_csv(\"../data/processed/cleaned_data.csv\")"
   ]
  },
  {
   "cell_type": "markdown",
   "id": "760abc09",
   "metadata": {},
   "source": [
    "### 🎯 Applying GPA to GradeClass Transformation\n",
    "\n",
    "We have already defined the `gpa_to_grade_class()` function in our `feature_engineering.py` script. Here, we import and apply it to convert the continuous `GPA` column into a categorical `GradeClass` variable:\n",
    "\n",
    "- **0: 'A'** (GPA ≥ 3.5)  \n",
    "- **1: 'B'** (3.0 ≤ GPA < 3.5)  \n",
    "- **2: 'C'** (2.5 ≤ GPA < 3.0)  \n",
    "- **3: 'D'** (2.0 ≤ GPA < 2.5)  \n",
    "- **4: 'F'** (GPA < 2.0)  \n",
    "\n",
    "This target variable will be used in our classification models and GPA will be removed because it was directly used to create the target variable."
   ]
  },
  {
   "cell_type": "code",
   "execution_count": 2,
   "id": "9197edf1",
   "metadata": {},
   "outputs": [
    {
     "data": {
      "text/html": [
       "<div>\n",
       "<style scoped>\n",
       "    .dataframe tbody tr th:only-of-type {\n",
       "        vertical-align: middle;\n",
       "    }\n",
       "\n",
       "    .dataframe tbody tr th {\n",
       "        vertical-align: top;\n",
       "    }\n",
       "\n",
       "    .dataframe thead th {\n",
       "        text-align: right;\n",
       "    }\n",
       "</style>\n",
       "<table border=\"1\" class=\"dataframe\">\n",
       "  <thead>\n",
       "    <tr style=\"text-align: right;\">\n",
       "      <th></th>\n",
       "      <th>GPA</th>\n",
       "      <th>GradeClass</th>\n",
       "    </tr>\n",
       "  </thead>\n",
       "  <tbody>\n",
       "    <tr>\n",
       "      <th>0</th>\n",
       "      <td>2.929196</td>\n",
       "      <td>2</td>\n",
       "    </tr>\n",
       "    <tr>\n",
       "      <th>1</th>\n",
       "      <td>3.042915</td>\n",
       "      <td>1</td>\n",
       "    </tr>\n",
       "    <tr>\n",
       "      <th>2</th>\n",
       "      <td>0.112602</td>\n",
       "      <td>4</td>\n",
       "    </tr>\n",
       "    <tr>\n",
       "      <th>3</th>\n",
       "      <td>2.054218</td>\n",
       "      <td>3</td>\n",
       "    </tr>\n",
       "    <tr>\n",
       "      <th>4</th>\n",
       "      <td>1.288061</td>\n",
       "      <td>4</td>\n",
       "    </tr>\n",
       "  </tbody>\n",
       "</table>\n",
       "</div>"
      ],
      "text/plain": [
       "        GPA  GradeClass\n",
       "0  2.929196           2\n",
       "1  3.042915           1\n",
       "2  0.112602           4\n",
       "3  2.054218           3\n",
       "4  1.288061           4"
      ]
     },
     "execution_count": 2,
     "metadata": {},
     "output_type": "execute_result"
    }
   ],
   "source": [
    "# 📥 Import the function from the local feature engineering file\n",
    "from feature_engineering import gpa_to_grade_class\n",
    "\n",
    "# 🔁 Apply the function to the GPA column\n",
    "df['GradeClass'] = gpa_to_grade_class(df['GPA'])\n",
    "\n",
    "# ✅ Preview the new target column\n",
    "df[['GPA', 'GradeClass']].head()"
   ]
  },
  {
   "cell_type": "code",
   "execution_count": 4,
   "id": "b2b7e518",
   "metadata": {},
   "outputs": [
    {
     "name": "stdout",
     "output_type": "stream",
     "text": [
      "🗑️ GPA column dropped.\n"
     ]
    }
   ],
   "source": [
    "# Dropping GPA\n",
    "df.drop(columns=['GPA'], inplace=True)\n",
    "print(\"🗑️ GPA column dropped.\")"
   ]
  },
  {
   "cell_type": "markdown",
   "id": "70148213",
   "metadata": {},
   "source": [
    "### 💾 Save the Engineered Dataset\n",
    "\n",
    "We save the final engineered DataFrame to the `data/processed/` folder for use in the modeling phase."
   ]
  },
  {
   "cell_type": "code",
   "execution_count": 5,
   "id": "1db5e1ad",
   "metadata": {},
   "outputs": [
    {
     "name": "stdout",
     "output_type": "stream",
     "text": [
      "✅ Engineered data saved to: ../data/processed/engineered_data.csv\n"
     ]
    }
   ],
   "source": [
    "# Define the output path\n",
    "output_path = \"../data/processed/engineered_data.csv\"\n",
    "\n",
    "# Save the DataFrame\n",
    "df.to_csv(output_path, index=False)\n",
    "\n",
    "print(f\"✅ Engineered data saved to: {output_path}\")\n"
   ]
  }
 ],
 "metadata": {
  "kernelspec": {
   "display_name": "fucking_testing",
   "language": "python",
   "name": "python3"
  },
  "language_info": {
   "codemirror_mode": {
    "name": "ipython",
    "version": 3
   },
   "file_extension": ".py",
   "mimetype": "text/x-python",
   "name": "python",
   "nbconvert_exporter": "python",
   "pygments_lexer": "ipython3",
   "version": "3.12.9"
  }
 },
 "nbformat": 4,
 "nbformat_minor": 5
}
