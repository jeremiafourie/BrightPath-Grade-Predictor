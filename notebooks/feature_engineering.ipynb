{
 "cells": [
  {
   "cell_type": "markdown",
   "id": "697c3d63",
   "metadata": {},
   "source": [
    "# Feature Engineering"
   ]
  },
  {
   "cell_type": "code",
   "execution_count": 5,
   "id": "85cefbfa",
   "metadata": {},
   "outputs": [],
   "source": [
    "import sys\n",
    "import os\n",
    "import pandas as pd\n",
    "\n",
    "# Dynamically add the src/ folder to the system path\n",
    "sys.path.append(os.path.abspath(os.path.join(\"..\", \"src\")))\n",
    "\n",
    "from preprocess_data import gpa_to_grade_class\n",
    "\n",
    "# Define the output path\n",
    "output_path = \"../data/processed/engineered_data.csv\"\n",
    "\n",
    "# Load the cleaned dataset\n",
    "df = pd.read_csv(\"../data/processed/cleaned_data.csv\")"
   ]
  },
  {
   "cell_type": "markdown",
   "id": "760abc09",
   "metadata": {},
   "source": [
    "## 1. Applying GPA to GradeClass Transformation\n",
    "\n",
    "We have already defined the `gpa_to_grade_class()` function in our `feature_engineering.py` script. Here, we import and apply it to convert the continuous `GPA` column into a categorical `GradeClass` variable:\n",
    "\n",
    "- **0: 'A'** (GPA ≥ 3.5)  \n",
    "- **1: 'B'** (3.0 ≤ GPA < 3.5)  \n",
    "- **2: 'C'** (2.5 ≤ GPA < 3.0)  \n",
    "- **3: 'D'** (2.0 ≤ GPA < 2.5)  \n",
    "- **4: 'F'** (GPA < 2.0)  \n",
    "\n",
    "This target variable will be used in our classification models."
   ]
  },
  {
   "cell_type": "code",
   "execution_count": 6,
   "id": "0a03ca64",
   "metadata": {},
   "outputs": [
    {
     "data": {
      "text/html": [
       "<div>\n",
       "<style scoped>\n",
       "    .dataframe tbody tr th:only-of-type {\n",
       "        vertical-align: middle;\n",
       "    }\n",
       "\n",
       "    .dataframe tbody tr th {\n",
       "        vertical-align: top;\n",
       "    }\n",
       "\n",
       "    .dataframe thead th {\n",
       "        text-align: right;\n",
       "    }\n",
       "</style>\n",
       "<table border=\"1\" class=\"dataframe\">\n",
       "  <thead>\n",
       "    <tr style=\"text-align: right;\">\n",
       "      <th></th>\n",
       "      <th>GPA</th>\n",
       "      <th>GradeClass</th>\n",
       "    </tr>\n",
       "  </thead>\n",
       "  <tbody>\n",
       "    <tr>\n",
       "      <th>0</th>\n",
       "      <td>2.929196</td>\n",
       "      <td>2</td>\n",
       "    </tr>\n",
       "    <tr>\n",
       "      <th>1</th>\n",
       "      <td>3.042915</td>\n",
       "      <td>1</td>\n",
       "    </tr>\n",
       "    <tr>\n",
       "      <th>2</th>\n",
       "      <td>0.112602</td>\n",
       "      <td>4</td>\n",
       "    </tr>\n",
       "    <tr>\n",
       "      <th>3</th>\n",
       "      <td>2.054218</td>\n",
       "      <td>2</td>\n",
       "    </tr>\n",
       "    <tr>\n",
       "      <th>4</th>\n",
       "      <td>1.288061</td>\n",
       "      <td>3</td>\n",
       "    </tr>\n",
       "  </tbody>\n",
       "</table>\n",
       "</div>"
      ],
      "text/plain": [
       "        GPA  GradeClass\n",
       "0  2.929196           2\n",
       "1  3.042915           1\n",
       "2  0.112602           4\n",
       "3  2.054218           2\n",
       "4  1.288061           3"
      ]
     },
     "execution_count": 6,
     "metadata": {},
     "output_type": "execute_result"
    }
   ],
   "source": [
    "# 🔁 Apply the function to the GPA column\n",
    "df['GradeClass'] = gpa_to_grade_class(df['GPA'])\n",
    "\n",
    "# ✅ Preview the new target column\n",
    "df[['GPA', 'GradeClass']].head()"
   ]
  },
  {
   "cell_type": "markdown",
   "id": "2926bb2f",
   "metadata": {},
   "source": [
    "## 2)  Removing GPA\n",
    "We must remove GPA from our training data, because we used it to directly calculate our target variable with the transformation step 2 to not let the model learn the wrong pattern."
   ]
  },
  {
   "cell_type": "code",
   "execution_count": 7,
   "id": "9197edf1",
   "metadata": {},
   "outputs": [
    {
     "name": "stdout",
     "output_type": "stream",
     "text": [
      "🗑️ GPA column dropped.\n"
     ]
    }
   ],
   "source": [
    "# Dropping GPA\n",
    "df.drop(columns=['GPA'], inplace=True)\n",
    "print(\"🗑️ GPA column dropped.\")"
   ]
  },
  {
   "cell_type": "markdown",
   "id": "1d8479c5",
   "metadata": {},
   "source": [
    "## 3) Engagement Score"
   ]
  },
  {
   "cell_type": "code",
   "execution_count": null,
   "id": "36826cc5",
   "metadata": {},
   "outputs": [],
   "source": [
    "flags = ['Tutoring', 'Extracurricular', 'Sports', 'Music', 'Volunteering']\n",
    "df['Engagement'] = df[flags].sum(axis=1)"
   ]
  },
  {
   "cell_type": "markdown",
   "id": "40c27875",
   "metadata": {},
   "source": [
    "## 4) Family Support Index"
   ]
  },
  {
   "cell_type": "code",
   "execution_count": null,
   "id": "f3cc7080",
   "metadata": {},
   "outputs": [],
   "source": [
    "df['FamilySupport'] = df['ParentalEducation'] * df['ParentalSupport']"
   ]
  },
  {
   "cell_type": "markdown",
   "id": "f4755532",
   "metadata": {},
   "source": [
    "## 5) One-hot encode all remaining categorical columns"
   ]
  },
  {
   "cell_type": "code",
   "execution_count": null,
   "id": "8858c56c",
   "metadata": {},
   "outputs": [],
   "source": [
    " # 4) One-hot encode all remaining categorical columns\n",
    "cat_cols = df.select_dtypes(include=['object', 'category']).columns.tolist()\n",
    "if cat_cols:\n",
    "    df = pd.get_dummies(df, columns=cat_cols, drop_first=True)"
   ]
  },
  {
   "cell_type": "markdown",
   "id": "70148213",
   "metadata": {},
   "source": [
    "## 💾 Save the Engineered Dataset\n",
    "\n",
    "We save the final engineered DataFrame to the `data/processed/` folder for use in the modeling phase."
   ]
  },
  {
   "cell_type": "code",
   "execution_count": 8,
   "id": "1db5e1ad",
   "metadata": {},
   "outputs": [
    {
     "name": "stdout",
     "output_type": "stream",
     "text": [
      "✅ Engineered data saved to: ../data/processed/engineered_data.csv\n"
     ]
    }
   ],
   "source": [
    "# Save the DataFrame\n",
    "df.to_csv(output_path, index=False)\n",
    "\n",
    "print(f\"✅ Engineered data saved to: {output_path}\")"
   ]
  }
 ],
 "metadata": {
  "kernelspec": {
   "display_name": ".venv",
   "language": "python",
   "name": "python3"
  },
  "language_info": {
   "codemirror_mode": {
    "name": "ipython",
    "version": 3
   },
   "file_extension": ".py",
   "mimetype": "text/x-python",
   "name": "python",
   "nbconvert_exporter": "python",
   "pygments_lexer": "ipython3",
   "version": "3.12.4"
  }
 },
 "nbformat": 4,
 "nbformat_minor": 5
}
