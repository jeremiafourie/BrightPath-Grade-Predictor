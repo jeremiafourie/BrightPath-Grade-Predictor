{
 "cells": [
  {
   "cell_type": "markdown",
   "id": "697c3d63",
   "metadata": {},
   "source": [
    "# Feature Engineering (Step 8)"
   ]
  }
 ],
 "metadata": {
  "language_info": {
   "name": "python"
  }
 },
 "nbformat": 4,
 "nbformat_minor": 5
}
