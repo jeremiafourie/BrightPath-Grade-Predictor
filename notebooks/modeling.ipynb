{
 "cells": [
  {
   "cell_type": "markdown",
   "id": "4e166e88",
   "metadata": {},
   "source": [
    "# Modeling"
   ]
  },
  {
   "cell_type": "markdown",
   "id": "259e258a",
   "metadata": {},
   "source": [
    "## Evaluation Metrics (Step 7)"
   ]
  },
  {
   "cell_type": "markdown",
   "id": "a20f6549",
   "metadata": {},
   "source": [
    "## Model Building: Part 1 (Baseline ML Models) (Step 9)"
   ]
  },
  {
   "cell_type": "markdown",
   "id": "e5ec14dd",
   "metadata": {},
   "source": [
    "## Model Building: Part 2 (Deep Learning Model) (Step 10)"
   ]
  },
  {
   "cell_type": "markdown",
   "id": "c657d680",
   "metadata": {},
   "source": []
  }
 ],
 "metadata": {
  "language_info": {
   "name": "python"
  }
 },
 "nbformat": 4,
 "nbformat_minor": 5
}
