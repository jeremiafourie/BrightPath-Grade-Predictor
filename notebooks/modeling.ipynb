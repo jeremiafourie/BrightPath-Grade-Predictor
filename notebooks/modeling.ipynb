{
 "cells": [
  {
   "cell_type": "markdown",
   "id": "4e166e88",
   "metadata": {},
   "source": [
    "# Modeling\n",
    "#### ✂️ Train-Test Split (80/20)"
   ]
  },
  {
   "cell_type": "code",
   "execution_count": 5,
   "id": "8ca8f63e",
   "metadata": {},
   "outputs": [
    {
     "name": "stdout",
     "output_type": "stream",
     "text": [
      "✅ X_train shape: (1913, 13)\n",
      "✅ X_test shape: (479, 13)\n",
      "✅ y_train shape: (1913,)\n",
      "✅ y_test shape: (479,)\n"
     ]
    }
   ],
   "source": [
    "import pandas as pd\n",
    "from sklearn.model_selection import train_test_split\n",
    "\n",
    "# Load the engineered data\n",
    "df = pd.read_csv(\"../data/processed/engineered_data.csv\")\n",
    "\n",
    "# Separate features and target\n",
    "X = df.drop(columns=[\"GradeClass\"])\n",
    "y = df[\"GradeClass\"]\n",
    "\n",
    "# Perform 80/20 train-test split\n",
    "X_train, X_test, y_train, y_test = train_test_split(\n",
    "    X, y, test_size=0.2, random_state=42, stratify=y  # stratify keeps class distribution\n",
    ")\n",
    "\n",
    "# Confirm the split shapes\n",
    "print(f\"✅ X_train shape: {X_train.shape}\")\n",
    "print(f\"✅ X_test shape: {X_test.shape}\")\n",
    "print(f\"✅ y_train shape: {y_train.shape}\")\n",
    "print(f\"✅ y_test shape: {y_test.shape}\")\n"
   ]
  },
  {
   "cell_type": "markdown",
   "id": "259e258a",
   "metadata": {},
   "source": [
    "## Evaluation Metrics (Step 7)"
   ]
  },
  {
   "cell_type": "markdown",
   "id": "a20f6549",
   "metadata": {},
   "source": [
    "## Model Building: Part 1 (Baseline ML Models) (Step 9)"
   ]
  },
  {
   "cell_type": "markdown",
   "id": "f5f946c6",
   "metadata": {},
   "source": [
    "### 1) Logistic Regression"
   ]
  },
  {
   "cell_type": "code",
   "execution_count": 9,
   "id": "ffc5a550",
   "metadata": {},
   "outputs": [
    {
     "name": "stdout",
     "output_type": "stream",
     "text": [
      "🔍 Logistic Regression\n",
      "              precision    recall  f1-score   support\n",
      "\n",
      "           0      0.800     0.533     0.640        15\n",
      "           1      0.741     0.816     0.777        49\n",
      "           2      0.838     0.805     0.821        77\n",
      "           3      0.831     0.892     0.860        83\n",
      "           4      0.984     0.973     0.978       255\n",
      "\n",
      "    accuracy                          0.902       479\n",
      "   macro avg      0.839     0.804     0.815       479\n",
      "weighted avg      0.903     0.902     0.901       479\n",
      "\n",
      "------------------------------------------------------------\n"
     ]
    }
   ],
   "source": [
    "from sklearn.linear_model import LogisticRegression\n",
    "from sklearn.ensemble import RandomForestClassifier\n",
    "from xgboost import XGBClassifier\n",
    "from sklearn.metrics import classification_report\n",
    "\n",
    "# Common function to train and evaluate a model\n",
    "def train_and_evaluate(model, X_train, y_train, X_test, y_test, model_name=\"Model\"):\n",
    "    print(f\"🔍 {model_name}\")\n",
    "    model.fit(X_train, y_train)\n",
    "    y_pred = model.predict(X_test)\n",
    "    print(classification_report(y_test, y_pred, digits=3))\n",
    "    print(\"-\" * 60)\n",
    "\n",
    "# -------------------- 1. Logistic Regression --------------------\n",
    "logreg = LogisticRegression(max_iter=3000, random_state=42)\n",
    "train_and_evaluate(logreg, X_train, y_train, X_test, y_test, \"Logistic Regression\")"
   ]
  },
  {
   "cell_type": "markdown",
   "id": "edbc4376",
   "metadata": {},
   "source": [
    "### 2) Random Forest"
   ]
  },
  {
   "cell_type": "code",
   "execution_count": 7,
   "id": "68d72ed7",
   "metadata": {},
   "outputs": [
    {
     "name": "stdout",
     "output_type": "stream",
     "text": [
      "🔍 Random Forest\n",
      "              precision    recall  f1-score   support\n",
      "\n",
      "           0      1.000     0.867     0.929        15\n",
      "           1      0.961     1.000     0.980        49\n",
      "           2      1.000     0.987     0.993        77\n",
      "           3      0.988     1.000     0.994        83\n",
      "           4      1.000     1.000     1.000       255\n",
      "\n",
      "    accuracy                          0.994       479\n",
      "   macro avg      0.990     0.971     0.979       479\n",
      "weighted avg      0.994     0.994     0.994       479\n",
      "\n",
      "------------------------------------------------------------\n"
     ]
    }
   ],
   "source": [
    "# -------------------- 2. Random Forest --------------------\n",
    "rf = RandomForestClassifier(n_estimators=100, random_state=42)\n",
    "train_and_evaluate(rf, X_train, y_train, X_test, y_test, \"Random Forest\")"
   ]
  },
  {
   "cell_type": "markdown",
   "id": "4b091c00",
   "metadata": {},
   "source": [
    "### 3) XGBoost"
   ]
  },
  {
   "cell_type": "code",
   "execution_count": 10,
   "id": "f04039a4",
   "metadata": {},
   "outputs": [
    {
     "name": "stdout",
     "output_type": "stream",
     "text": [
      "🔍 XGBoost\n",
      "              precision    recall  f1-score   support\n",
      "\n",
      "           0      1.000     1.000     1.000        15\n",
      "           1      1.000     0.959     0.979        49\n",
      "           2      0.975     1.000     0.987        77\n",
      "           3      1.000     0.988     0.994        83\n",
      "           4      0.996     1.000     0.998       255\n",
      "\n",
      "    accuracy                          0.994       479\n",
      "   macro avg      0.994     0.989     0.992       479\n",
      "weighted avg      0.994     0.994     0.994       479\n",
      "\n",
      "------------------------------------------------------------\n"
     ]
    }
   ],
   "source": [
    "# -------------------- 3. XGBoost --------------------\n",
    "xgb = XGBClassifier(eval_metric=\"mlogloss\", random_state=42)\n",
    "train_and_evaluate(xgb, X_train, y_train, X_test, y_test, \"XGBoost\")"
   ]
  },
  {
   "cell_type": "markdown",
   "id": "e5ec14dd",
   "metadata": {},
   "source": [
    "## Model Building: Part 2 (Deep Learning Model) (Step 10)"
   ]
  }
 ],
 "metadata": {
  "kernelspec": {
   "display_name": "fucking_testing",
   "language": "python",
   "name": "python3"
  },
  "language_info": {
   "codemirror_mode": {
    "name": "ipython",
    "version": 3
   },
   "file_extension": ".py",
   "mimetype": "text/x-python",
   "name": "python",
   "nbconvert_exporter": "python",
   "pygments_lexer": "ipython3",
   "version": "3.12.9"
  }
 },
 "nbformat": 4,
 "nbformat_minor": 5
}
