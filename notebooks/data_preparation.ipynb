{
 "cells": [
  {
   "cell_type": "markdown",
   "id": "10b08a27",
   "metadata": {},
   "source": [
    "# Data Preparation"
   ]
  },
  {
   "cell_type": "markdown",
   "id": "eed0b305",
   "metadata": {},
   "source": [
    "## Getting the System Ready and Loading the Data (Step 3)"
   ]
  },
  {
   "cell_type": "markdown",
   "id": "fe99168f",
   "metadata": {},
   "source": [
    "### Import Libraries"
   ]
  },
  {
   "cell_type": "markdown",
   "id": "a894a6ba",
   "metadata": {},
   "source": [
    "### Load Raw Data"
   ]
  },
  {
   "cell_type": "markdown",
   "id": "1f3b6158",
   "metadata": {},
   "source": [
    "## Understanding the Data (Step 4)"
   ]
  },
  {
   "cell_type": "markdown",
   "id": "14cb08de",
   "metadata": {},
   "source": [
    "## Missing Value and Outlier Treatment (Step 6)"
   ]
  }
 ],
 "metadata": {
  "language_info": {
   "name": "python"
  }
 },
 "nbformat": 4,
 "nbformat_minor": 5
}
